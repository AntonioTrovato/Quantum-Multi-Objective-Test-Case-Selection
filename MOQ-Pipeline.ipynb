{
 "cells": [
  {
   "cell_type": "markdown",
   "source": [
    "# Regression test case selection unisng quantum algorithms\n",
    "The aim of this project is to exploit the capabilities of quantum algorithms and quantum computers to optimize the process of test case selection for regression testing purposes. In particular, representing every test case as a single qubit, that could be in a superposition of both the states 0 and 1 (meaning respectively \"not selected\" and \"selected\"), quantum algorithms are able to evaluate the sub-sets of the original test suite that, preserving the coverage level of the original test suite, optimize the better the cost consumption and fault-revealing properties. "
   ],
   "metadata": {
    "collapsed": false
   },
   "id": "8df92c7f16f61fcc"
  },
  {
   "cell_type": "code",
   "execution_count": 1,
   "outputs": [],
   "source": [
    "#this cell contains all the imports needed by the pipeline\n",
    "import pandas"
   ],
   "metadata": {
    "collapsed": false,
    "ExecuteTime": {
     "end_time": "2023-09-26T10:19:39.227363900Z",
     "start_time": "2023-09-26T10:19:39.177570Z"
    }
   },
   "id": "26cfee6323f1164"
  },
  {
   "cell_type": "code",
   "execution_count": null,
   "outputs": [],
   "source": [
    "#this cell contains all variable definitions that will be useful throughout the entire project\n",
    "sir_programs=[\"flex\",\"grep\",\"gzip\",\"sed\"]"
   ],
   "metadata": {
    "collapsed": false
   },
   "id": "7c35ee998a723ebe"
  },
  {
   "cell_type": "markdown",
   "source": [
    "## The pipeline dataset\n",
    "To experiment the performance of the proposed solution by this work and to compare its results to those of state-of-the-art solutions, 4 public programs have been downloaded from the SIR website. SIR is a repository of software-related artifacts meant to support rigorous controlled experimentation with program analysis and software testing techniques, and education in controlled experimentation. \n",
    "\n",
    "### Chosen SIR Programs\n",
    "The programs that will be used for experimentation have all been written in C and are:\n",
    "- flex (a program that generates a lexical analysis program, based on regular expressions and C statement contained in one or more input files);\n",
    "- grep (a useful program to search form matching patterns in a file);\n",
    "- gzip (a program that substitute a file, generally text files or web pages, with their compressed version)\n",
    "- sed (a powerful program for stream text editing).\n",
    "\n",
    "### Needed information\n",
    "The information needed by the quantum algorithm to work on every one of the 4 programs are:\n",
    "- a fault matrix: it indicates whether a precise test case already found, during previous execution, a bug in the source code or not;\n",
    "- execution cost: it indicates the summation of the execution costs of all the test cases of the suite;\n",
    "- statement coverage: it indicates statement coverage information for every test case. \n",
    "\n",
    "All this information have been gathered through previous experimentation on the four programs mentioned above and written in files organized in the SIR_Programs folder. So, the first goal of the project will be gathering data from these files for computational purposes."
   ],
   "metadata": {
    "collapsed": false
   },
   "id": "f36c35765771b1a0"
  },
  {
   "cell_type": "code",
   "execution_count": null,
   "outputs": [],
   "source": [
    "#let's start making a function to read the fault matrices\n",
    "#IMPORTANT: all the fault-matrix files must be renamed as \"fault-matrix\".txt and must be written using the same standard used by the files of this project\n",
    "def get_fault_matrix(program_name:str):\n",
    "    program_file = open(\"/SIR_Programs/\"+program_name+\"/fault-matrix.txt\")\n",
    "    pass"
   ],
   "metadata": {
    "collapsed": false
   },
   "id": "4ad8b693ac894c8c"
  }
 ],
 "metadata": {
  "kernelspec": {
   "display_name": "Python 3",
   "language": "python",
   "name": "python3"
  },
  "language_info": {
   "codemirror_mode": {
    "name": "ipython",
    "version": 2
   },
   "file_extension": ".py",
   "mimetype": "text/x-python",
   "name": "python",
   "nbconvert_exporter": "python",
   "pygments_lexer": "ipython2",
   "version": "2.7.6"
  }
 },
 "nbformat": 4,
 "nbformat_minor": 5
}
