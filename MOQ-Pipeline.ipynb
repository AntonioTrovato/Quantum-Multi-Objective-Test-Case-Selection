{
 "cells": [
  {
   "cell_type": "markdown",
   "id": "8df92c7f16f61fcc",
   "metadata": {},
   "source": [
    "# Regression test case selection using quantum algorithms\n",
    "Regression testing is an important part of the software development process in software engineering. It is a practice aimed at identifying any regressions, which are the emergence of new defects or issues in a software application following changes, enhancements, or updates made to the source code. In other words, regression testing focuses on how changes made to the software can affect the correct behavior of existing features. Regression testing is particularly important in agile software development environments, where changes are made frequently and rapidly. This practice helps ensure that the software remains stable and reliable as it evolves over time. To conduct regression testing, it is necessary to identify a set of test cases that cover the existing functionalities of the software; this problem is known as the \"Test Case Selection\" problem.\n",
    "The problem of test case selection is a critical component of the regression testing process in the field of software engineering. This problem arises when choosing the test cases to be executed during a regression testing session, particularly when making changes to existing software.\n",
    "The project presented in this notebook is aimed at solving the test case selection problem for regression testing using a quantum algorithm (which will be explained later). This problem will be treated as a binary variable optimization problem to obtain a subset of the original test suite of a program under observation, with the objectives of minimizing the test execution cost and maximizing the probability of detecting errors and test code coverage."
   ]
  },
  {
   "cell_type": "code",
   "execution_count": null,
   "id": "26cfee6323f1164",
   "metadata": {
    "is_executing": true
   },
   "outputs": [],
   "source": [
    "#this cell contains all the imports needed by the pipeline\n",
    "import json\n",
    "from dwave.system import LeapHybridSampler\n",
    "import dimod\n",
    "from pathlib import Path\n",
    "import matplotlib.pyplot as plt\n",
    "import random\n",
    "import numpy as np"
   ]
  },
  {
   "cell_type": "code",
   "execution_count": 2,
   "id": "7c35ee998a723ebe",
   "metadata": {
    "ExecuteTime": {
     "end_time": "2023-10-15T15:04:39.423511800Z",
     "start_time": "2023-10-15T15:04:38.349011600Z"
    }
   },
   "outputs": [],
   "source": [
    "#this cell contains all variable definitions that will be useful throughout the entire project\n",
    "sir_programs = [\"flex\",\"grep\",\"gzip\",\"sed\"]\n",
    "sir_programs_tests_number = {\"flex\":567,\"grep\":809,\"gzip\":214,\"sed\":360}\n",
    "sir_programs_end_lines = {\"flex\":14192,\"grep\":13281,\"gzip\":6701,\"sed\":7118}\n",
    "alpha = 0.5\n",
    "tot_run = 30"
   ]
  },
  {
   "cell_type": "markdown",
   "id": "f36c35765771b1a0",
   "metadata": {},
   "source": [
    "## The pipeline dataset\n",
    "To experiment the performance of the proposed solution by this work and to compare its results to those of state-of-the-art solutions, 4 public programs have been downloaded from the SIR website. SIR is a repository of software-related artifacts meant to support rigorous controlled experimentation with program analysis and software testing techniques, and education in controlled experimentation. \n",
    "\n",
    "### Chosen SIR Programs\n",
    "The programs that will be used for experimentation have all been written in C and are:\n",
    "- flex (a program that generates a lexical analysis program, based on regular expressions and C statement contained in one or more input files);\n",
    "- grep (a useful program to search form matching patterns in a file);\n",
    "- gzip (a program that substitute a file, generally text files or web pages, with their compressed version)\n",
    "- sed (a powerful program for stream text editing).\n",
    "\n",
    "### Needed information\n",
    "The information needed by the quantum algorithm to work on every one of the 4 programs are:\n",
    "- a fault matrix: it indicates whether a precise test case already found, during previous execution, a bug in the source code or not;\n",
    "- execution cost: it indicates the execution cost of any test case of the suite;\n",
    "- statement coverage: it indicates statement coverage information for every test case. \n",
    "\n",
    "All this information have been gathered through previous experimentation on the four programs mentioned above and written in files organized in the SIR_Programs folder. So, the first goal of the project will be gathering data from these files for computational purposes."
   ]
  },
  {
   "cell_type": "code",
   "execution_count": 3,
   "id": "4ad8b693ac894c8c",
   "metadata": {
    "ExecuteTime": {
     "end_time": "2023-10-15T15:04:42.978264900Z",
     "start_time": "2023-10-15T15:04:42.842596800Z"
    }
   },
   "outputs": [],
   "source": [
    "#let's make a function to read the fault matrices\n",
    "#IMPORTANT: all the fault-matrix files must be renamed as \"fault-matrix\".txt and must be written using the same standard used by the files of this project (i-th line->e0e1e2e3..., where ej is 0 if the i-th test found a bug when launched on the j-th version)\n",
    "def get_fault_list(program_name:str):\n",
    "    \"\"\"This function opens the fault-matrix file of a sir programs and make a list of binary values for each test case of that program to indicate whether a test case found or not a bug in at leat 1 of the available versions of the program\"\"\"\n",
    "    #open the fault-matrix file of the desired SIR program\n",
    "    program_file = open(\"SIR_Programs/\"+program_name+\"/fault-matrix.txt\")\n",
    "    lines = program_file.readlines()\n",
    "    \n",
    "    #we need a list which elements represent test cases, the i-th element is 1 if the i-th test case\n",
    "    #discovered a fault in the past, 0 otherwise\n",
    "    faults_test_by_test = list()\n",
    "    \n",
    "    i = 0\n",
    "    for line in lines:\n",
    "        if \"1\" in line:\n",
    "            faults_test_by_test.append(1)\n",
    "        else:\n",
    "            faults_test_by_test.append(0)\n",
    "        i += 1\n",
    "    \n",
    "    program_file.close()\n",
    "    \n",
    "    return faults_test_by_test"
   ]
  },
  {
   "cell_type": "code",
   "execution_count": 4,
   "id": "a2c2a3b4b0b07580",
   "metadata": {
    "ExecuteTime": {
     "end_time": "2023-10-15T15:04:44.616342400Z",
     "start_time": "2023-10-15T15:04:44.490596700Z"
    }
   },
   "outputs": [],
   "source": [
    "#the next function is able to research into the json coverage information file of each test case\n",
    "#of each sir program to gather information about the single test cases costs and coverage\n",
    "def cost_and_coverage_information_gathering(program_name:str):\n",
    "    \"\"\"The aim of this function is to obtain a dictionary that for each test case of a program indicates its cost, and a dictionary that, for each code line of the program to test, makes a list of all the test cases that run that line\"\"\"\n",
    "    test_case_execution_cost = 0\n",
    "    \n",
    "    execution_cost_test_by_test = dict()\n",
    "    executed_lines_test_by_test = dict()\n",
    "    \n",
    "    for test_case in range(sir_programs_tests_number[program_name]):\n",
    "        #to open the correct file, we must remember that the folders and the json files are\n",
    "        #numbered from 1 and not from 0\n",
    "        if program_name == \"gzip\":\n",
    "            json_name = \"allfile\"\n",
    "        else:\n",
    "            json_name = program_name\n",
    "        test_case_json = open(\"SIR_Programs/\"+program_name+\"/json_\"+program_name+\"/t\"+str(test_case+1)+\"/\"+json_name+str(test_case+1)+\".gcov.json\")\n",
    "        \n",
    "        #read the JSON object as a dictionary\n",
    "        json_data = json.load(test_case_json)\n",
    "        \n",
    "        #for programs tested above more than one file, the initial row of a file will start from\n",
    "        #the final row of the preceding file\n",
    "        i = 0\n",
    "        for file in json_data[\"files\"]:\n",
    "            line_count_start = i\n",
    "            for line in file[\"lines\"]:\n",
    "                #if a line is executed, we want to remember FOR THAT LINE which are the tests\n",
    "                #that executed it, and we want to increment the execution cost\n",
    "                if line[\"unexecuted_block\"] == False:\n",
    "                    #the test suite exec cost = sum of the exec freq. of each executed basic block\n",
    "                    #by each test case\n",
    "                    #test_suite_execution_cost += line[\"count\"]\n",
    "                    test_case_execution_cost += line[\"count\"]\n",
    "                    \n",
    "                    if (line_count_start + line[\"line_number\"]) not in executed_lines_test_by_test:\n",
    "                        executed_lines_test_by_test[line_count_start + line[\"line_number\"]] = [test_case]\n",
    "                    else:\n",
    "                        executed_lines_test_by_test[line_count_start + line[\"line_number\"]].append(test_case)\n",
    "                    executed_lines_test_by_test[line_count_start + line[\"line_number\"]].sort()\n",
    "                i = line[\"line_number\"]\n",
    "        \n",
    "        #saving the total amount of execution cost for this test case and resetting for the next\n",
    "        execution_cost_test_by_test[test_case] = test_case_execution_cost\n",
    "        test_case_execution_cost = 0\n",
    "        \n",
    "        test_case_json.close()\n",
    "                        \n",
    "    return execution_cost_test_by_test, executed_lines_test_by_test\n",
    "                    "
   ]
  },
  {
   "cell_type": "code",
   "execution_count": 5,
   "id": "4a07ab07f350b491",
   "metadata": {
    "ExecuteTime": {
     "end_time": "2023-10-15T15:04:46.357518Z",
     "start_time": "2023-10-15T15:04:46.212713600Z"
    }
   },
   "outputs": [],
   "source": [
    "#we can now gain all the historical information about past fault detection \n",
    "faults_dictionary = {\"flex\": None, \"grep\": None, \"gzip\": None, \"sed\": None}\n",
    "\n",
    "for sir_program in sir_programs:\n",
    "    faults_dictionary[sir_program] = (get_fault_list(sir_program))"
   ]
  },
  {
   "cell_type": "code",
   "execution_count": 6,
   "id": "70035b3df21f1327",
   "metadata": {
    "ExecuteTime": {
     "end_time": "2023-10-15T15:05:27.576755800Z",
     "start_time": "2023-10-15T15:04:48.161546200Z"
    }
   },
   "outputs": [],
   "source": [
    "#we can now gain costs and coverage information\n",
    "\n",
    "test_cases_costs = {\"flex\":None,\"grep\":None,\"gzip\":None,\"sed\":None}\n",
    "coverage = {\"flex\":None,\"grep\":None,\"gzip\":None,\"sed\":None}\n",
    "\n",
    "for sir_program in sir_programs:\n",
    "    costs_and_coverage = cost_and_coverage_information_gathering(sir_program)\n",
    "    test_cases_costs[sir_program] = costs_and_coverage[0]\n",
    "    coverage[sir_program] = costs_and_coverage[1]"
   ]
  },
  {
   "cell_type": "markdown",
   "id": "ec65b50547d46586",
   "metadata": {},
   "source": [
    "## Quantum Annealing\n",
    "Quantum annealing is a quantum computing technique used by D-Wave Systems, and it's designed to solve combinatorial optimization problems.\n",
    "\n",
    "Quantum annealing leverages the principles of quantum mechanics to search for optimal or approximate solutions to optimization problems. It relies on a gradual transition from an initial state to a final state through a process known as \"annealing.\" During this transition, the system aims to minimize an objective function, which must be formulated in a way that can be tackled by the quantum annealer. This involves translating the problem into a mathematical form known as \"Quadratic Unconstrained Binary Optimization\" (QUBO), which is suitable for representation on a quantum computer.\n",
    "\n",
    "D-Wave's quantum annealer uses quantum qubits to simultaneously explore different combinations of variable values, seeking the optimal solution. During the annealing process, transition probabilities between quantum states are adjusted to minimize the objective function. At the end of the annealing process, a solution is obtained, representing a potential assignment of values to the problem's variables while aiming to minimize the objective function.\n",
    "\n",
    "## QUBO Problems\n",
    "A Quadratic Unconstrained Binary Optimization (QUBO) problem is a type of mathematical problem where we seek to find the best combination of binary values (0 or 1) for a set of variables to minimize or maximize an objective function. In other words, we are looking for the optimal solution among all possible variable combinations that satisfy certain constraints and make the objective function as small as possible.\n",
    "\n",
    "Weights for constraints (or penalty coefficients) are used in QUBO optimization problems to assign a numerical value to the constraints and influence the optimization process. These weights are important because they allow for managing the priority and relative importance of constraints within the optimization problem."
   ]
  },
  {
   "cell_type": "code",
   "execution_count": 7,
   "id": "abead0754d567232",
   "metadata": {},
   "outputs": [],
   "source": [
    "def create_adjvector_bqm(sir_program, alpha, P):\n",
    "    \"\"\"This function is the one that has to encode the QUBO problem that the D-Wave Hybrid Sampler will have to solve. The QUBO problem specifies the optimization to solve and a quadratic binary unconstrained problem\"\"\"\n",
    "    qubo = dimod.AdjVectorBQM(dimod.BINARY)\n",
    "\n",
    "    #linear coefficients, that are the diagonal of the matrix encoding the QUBO\n",
    "    for i in range(sir_programs_tests_number[sir_program]):\n",
    "        cost = alpha * test_cases_costs[sir_program][i] - (1 - alpha) * faults_dictionary[sir_program][i]\n",
    "        qubo.set_linear(i, cost)\n",
    "\n",
    "    #quadratic coefficient, that are the lower part of the QUBO matrix\n",
    "    for k in coverage[sir_program].keys():\n",
    "        test_cases = coverage[sir_program][k]\n",
    "        for i in test_cases:\n",
    "            for j in test_cases:\n",
    "                if i < j:\n",
    "                    qubo.set_linear(i,qubo.linear[i]-P)\n",
    "                    qubo.set_linear(j,qubo.linear[j]-P)\n",
    "                    try:\n",
    "                        qubo.set_quadratic(i, j,qubo.quadratic[i,j] + 2 * P)\n",
    "                    except:\n",
    "                        qubo.set_quadratic(i, j, 2 * P)\n",
    "\n",
    "    return qubo\n"
   ]
  },
  {
   "cell_type": "code",
   "execution_count": 8,
   "id": "a1cf595ddb56e04e",
   "metadata": {
    "ExecuteTime": {
     "end_time": "2023-10-14T10:02:02.032423600Z",
     "start_time": "2023-10-14T10:02:00.918014900Z"
    }
   },
   "outputs": [],
   "source": [
    "def make_result_test_suite(sir_program,result_sample,index):\n",
    "    \"\"\"This function creates a .universe file that correspond to the solution test suite identified by the D-Wave machine\"\"\"\n",
    "    #set the path containing the test suite file and its extension\n",
    "    path = Path(\"SIR_Programs/\" + sir_program)\n",
    "    extension = \".universe\"\n",
    "    \n",
    "    test_suite_file = None\n",
    "    result_test_suite_file = None\n",
    "    \n",
    "    file_with_extension = next(path.glob(f\"*{extension}\"))\n",
    "    if file_with_extension:\n",
    "        test_suite_file = open(file_with_extension,\"r\")\n",
    "        result_test_suite_file = open(\"SIR_Programs/\" + sir_program + \"/results\" + str(index) + \".universe\",\"w+\")\n",
    "    \n",
    "    test_case = 0\n",
    "    \n",
    "    #here we want to write only the lines of the test cases identified by the solution\n",
    "    for test_case_line in test_suite_file.readlines():\n",
    "        if result_sample[test_case] == 1:\n",
    "            result_test_suite_file.write(test_case_line)\n",
    "        test_case += 1\n",
    "    \n",
    "    if file_with_extension:\n",
    "        test_suite_file.close()\n",
    "        result_test_suite_file.close()\n",
    "            "
   ]
  },
  {
   "cell_type": "code",
   "execution_count": 9,
   "id": "8ab8c0bce740db9c",
   "metadata": {},
   "outputs": [],
   "source": [
    "penalties_dictionary = {\"flex\":None,\"grep\":None,\"gzip\":None,\"sed\":None}\n",
    "\n",
    "#in order to obtain a QUBO problem from a quadratic problem with constraints, we have to insert those constraints into the Hamiltonian to solve (which is the one encoded by the QUBO problem). When we insert constraint into the Hamiltonian, we have to specify also penalties\n",
    "for sir_program in sir_programs:\n",
    "    max = 0\n",
    "    for i in range(sir_programs_tests_number[sir_program]):\n",
    "        cost = alpha * test_cases_costs[sir_program][i] - (1 - alpha) * faults_dictionary[sir_program][i]\n",
    "        if cost > max:\n",
    "            max = cost\n",
    "    penalties_dictionary[sir_program] = max + 1"
   ]
  },
  {
   "cell_type": "code",
   "execution_count": 10,
   "id": "3c7f468b9deadab3",
   "metadata": {},
   "outputs": [],
   "source": [
    "qubos_dictionary = {\"flex\":None,\"grep\":None,\"gzip\":None,\"sed\":None}\n",
    "\n",
    "#make a dictionary that saves, for each program, the correspondent QUBO\n",
    "for sir_program in sir_programs:\n",
    "    qubos_dictionary[sir_program] = create_adjvector_bqm(sir_program,alpha,penalties_dictionary[sir_program])"
   ]
  },
  {
   "cell_type": "markdown",
   "id": "97ca2cae0686d917",
   "metadata": {},
   "source": [
    "## Evauation Metrics\n",
    "\n",
    "### QPU Run Time\n",
    "The QPU run time metric is an important measurement because it provides information about how long it takes for a quantum algorithm to run on the quantum hardware. It is a crucial factor in assessing the efficiency and performance of quantum computing systems. This metric can vary depending on the specific quantum hardware and the complexity of the quantum algorithm being executed. In this case, the sampler used is the D-Wave Hybrid Binary Quadratic Model (Version2).\n",
    "\n",
    "### Hypervolume Metric\n",
    "The hypervolume metric is a measure used in multi-objective optimization problems to evaluate the quality of solutions within the context of the Pareto front. It assesses the trade-offs between multiple conflicting objectives, and can identify solutions that offer better compromises between, in this case, test cases execution costs and faults discovery.\n",
    "\n",
    "### Run Time Confidence Interval\n",
    "The quantum run time confidence interval is a statistical range that quantifies the uncertainty in the execution time of a quantum computing program or algorithm. It provides a measure of the variability and reliability of the quantum computation's execution time. When dealing with quantum computers, there can be inherent variability in the execution times of quantum algorithms due to factors such as hardware fluctuations, noise, and the specific quantum computer architecture used. As a result, it's essential to estimate the confidence interval to understand the range of expected execution times."
   ]
  },
  {
   "cell_type": "code",
   "execution_count": 11,
   "id": "41eff43c9fe6467c",
   "metadata": {},
   "outputs": [],
   "source": [
    "def get_solution_cost(solution_number,solutions_dictionary_list,sir_program):\n",
    "    \"\"\"This function returns the total cost (in terms of execution cost) of a single solution given by the D-Wave machine\"\"\"\n",
    "    solution_cost = 0\n",
    "    try:\n",
    "        for test_case, var_x in solutions_dictionary_list[solution_number].items():\n",
    "            solution_cost += test_cases_costs[sir_program][test_case] * var_x\n",
    "    except:\n",
    "        #index out of range\n",
    "        return 0\n",
    "    return solution_cost\n",
    "\n",
    "def get_total_fault_coverage(solution_numer,solutions_dictionary_list,sir_program):\n",
    "    \"\"\"This function returns the percentage of faults covered by a single solution given by the D-Wave machine\"\"\"\n",
    "    total_faults = 0\n",
    "    total_solution_faults = 0\n",
    "    for fault_value in faults_dictionary[sir_program]:\n",
    "        total_faults += fault_value\n",
    "    for test_case, var_x in solutions_dictionary_list[solution_numer].items():\n",
    "        if var_x:\n",
    "            total_solution_faults += faults_dictionary[sir_program][test_case]\n",
    "    return total_solution_faults/total_faults"
   ]
  },
  {
   "cell_type": "code",
   "execution_count": 12,
   "id": "195dd5cac689e778",
   "metadata": {
    "ExecuteTime": {
     "start_time": "2023-10-11T14:43:07.791914100Z"
    }
   },
   "outputs": [
    {
     "name": "stderr",
     "output_type": "stream",
     "text": [
      "C:\\Users\\anton\\AppData\\Local\\Temp\\ipykernel_15192\\1670916097.py:23: DeprecationWarning: bqm.to_numpy_matrix() is deprecated since dimod 0.10.0 and will be removed in 0.12.0\n",
      "  response = sampler.sample_qubo(qubos_dictionary[sir_program].to_numpy_matrix())\n"
     ]
    },
    {
     "name": "stdout",
     "output_type": "stream",
     "text": [
      "INFORMATION FOR flex:\n",
      "I_CE: 1.2233361073582396\n",
      "TOTAL TIME:  2.991724 seconds\n",
      "\n",
      "INFORMATION FOR grep:\n",
      "I_CE: 0.5197864952963451\n",
      "TOTAL TIME:  2.992273 seconds\n",
      "\n",
      "INFORMATION FOR gzip:\n",
      "I_CE: 0.5195217755961453\n",
      "TOTAL TIME:  2.986435 seconds\n",
      "\n",
      "INFORMATION FOR sed:\n",
      "I_CE: 0.5259592562813199\n",
      "TOTAL TIME:  2.988043 seconds\n"
     ]
    }
   ],
   "source": [
    "sampler = LeapHybridSampler(token=\"API_KEY\")\n",
    "\n",
    "responses_dictionary = {\"flex\":[],\"grep\":[],\"gzip\":[],\"sed\":[]}\n",
    "run_times_dictionary = {\"flex\":[],\"grep\":[],\"gzip\":[],\"sed\":[]}\n",
    "I_CE_dictionary = {\"flex\":None,\"grep\":None,\"gzip\":None,\"sed\":None}\n",
    "\n",
    "I_CE_points = {\"flex\":[],\"grep\":[],\"gzip\":[],\"sed\":[]}\n",
    "\n",
    "#I want to run the sampler 30 times to obtain different results for each sir program\n",
    "for sir_program in sir_programs:\n",
    "    response = None\n",
    "    for _ in range(tot_run):\n",
    "        #for each iteration get the result\n",
    "        response = sampler.sample_qubo(qubos_dictionary[sir_program].to_numpy_matrix())\n",
    "        sample_dictionary = {i: response.samples()[0][i] for i in range(len(response.samples()[0]))}\n",
    "        responses_dictionary[sir_program].append(sample_dictionary)\n",
    "        run_times_dictionary[sir_program].append(response.info[\"run_time\"])\n",
    "    #compute I_CE and save the I_CE points to make the final plots\n",
    "    I_H = 0\n",
    "    for solution in range(len(responses_dictionary[sir_program])):\n",
    "        if solution == 0:\n",
    "            solution_cost = get_solution_cost(solution,responses_dictionary[sir_program],sir_program)\n",
    "            I_H += solution_cost\n",
    "            total_solution_faults = 0\n",
    "            for test_case, var_x in responses_dictionary[sir_program][solution].items():\n",
    "                if var_x:\n",
    "                    total_solution_faults += faults_dictionary[sir_program][test_case]\n",
    "            I_CE_points[sir_program].append((solution_cost,total_solution_faults))\n",
    "        else:\n",
    "            solution_cost = get_solution_cost(solution,responses_dictionary[sir_program],sir_program)\n",
    "            I_H += (get_solution_cost(solution+1,responses_dictionary[sir_program],sir_program)-solution_cost)*(1-get_total_fault_coverage(solution,responses_dictionary[sir_program],sir_program))\n",
    "            total_solution_faults = 0\n",
    "            for test_case, var_x in responses_dictionary[sir_program][solution].items():\n",
    "                if var_x:\n",
    "                    total_solution_faults += faults_dictionary[sir_program][test_case]\n",
    "            I_CE_points[sir_program].append((solution_cost,total_solution_faults))\n",
    "    if I_H<0: I_H *= -1\n",
    "    I_CE_dictionary[sir_program] = I_H/get_solution_cost(len(responses_dictionary[sir_program])-1,responses_dictionary[sir_program],sir_program)\n",
    "    #print the time iformation of the last run of the sir program\n",
    "    run_time = response.info[\"run_time\"]/1000000\n",
    "    \n",
    "    #Show the results\n",
    "    print(\"INFORMATION FOR \" + sir_program + \":\")\n",
    "    print(\"I_CE: \" + str(I_CE_dictionary[sir_program]))\n",
    "    print(\"TOTAL TIME: \", run_time, \"seconds\\n\")"
   ]
  },
  {
   "cell_type": "code",
   "execution_count": 13,
   "id": "5cce857b18a69eed",
   "metadata": {},
   "outputs": [],
   "source": [
    "def bootstrap_confidence_interval(data, num_samples, alpha=0.95):\n",
    "    \"\"\"This function determines the statistical range within we would expect the mean value of execution times to fall; it relies on the bootstrapping strategy, which allows the calculation of the confidence interval by repeatedly sampling (with replacement) from the existing data to obtain an estimate of the confidence interval.\"\"\"\n",
    "    sample_means = []\n",
    "    for _ in range(num_samples):\n",
    "        bootstrap_sample = [random.choice(data) for _ in range(len(data))]\n",
    "        sample_mean = np.mean(bootstrap_sample)\n",
    "        sample_means.append(sample_mean)\n",
    "    \n",
    "    lower_percentile = (1 - alpha) / 2 * 100\n",
    "    upper_percentile = (alpha + (1 - alpha) / 2) * 100\n",
    "    lower_bound = np.percentile(sample_means, lower_percentile)\n",
    "    upper_bound = np.percentile(sample_means, upper_percentile)\n",
    "    \n",
    "    return lower_bound, upper_bound"
   ]
  },
  {
   "cell_type": "code",
   "execution_count": 23,
   "id": "cb519dcb25728ca3",
   "metadata": {},
   "outputs": [
    {
     "name": "stdout",
     "output_type": "stream",
     "text": [
      "Intervallo di confidenza per flex: (2.9937, 2.9966)\n",
      "Intervallo di confidenza per grep: (2.9939, 2.9965)\n",
      "Intervallo di confidenza per gzip: (2.9908, 2.9937)\n",
      "Intervallo di confidenza per sed: (2.9890, 2.9924)\n"
     ]
    }
   ],
   "source": [
    "confidence_interval_dictionary = {\"flex\":None,\"grep\":None,\"gzip\":None,\"sed\":None}\n",
    "num_bootstrap_samples = 1000  #number of bootstrap samples\n",
    "alpha = 0.95  #confidence level\n",
    "\n",
    "#apply the bootstrapping for each sir program\n",
    "for sir_program in sir_programs:\n",
    "    run_times = run_times_dictionary[sir_program]\n",
    "    lower_bound, upper_bound = bootstrap_confidence_interval(run_times, num_bootstrap_samples, alpha)\n",
    "    confidence_interval_dictionary[sir_program] = (lower_bound, upper_bound)\n",
    "\n",
    "#show for each sir program the run time confidence interval\n",
    "for sir_program in confidence_interval_dictionary.keys():\n",
    "    print(f\"Intervallo di confidenza per {sir_program}: ({confidence_interval_dictionary[sir_program][0]/1000000:.4f}, {confidence_interval_dictionary[sir_program][1]/1000000:.4f})\")"
   ]
  },
  {
   "cell_type": "code",
   "execution_count": 24,
   "id": "ac684c15",
   "metadata": {},
   "outputs": [
    {
     "data": {
      "image/png": "[encoded data removed]",
      "text/plain": [
       "<Figure size 640x480 with 1 Axes>"
      ]
     },
     "metadata": {},
     "output_type": "display_data"
    }
   ],
   "source": [
    "#draw the plot for all the solutions together\n",
    "for sir_program in sir_programs:\n",
    "    x,y = zip(*I_CE_points[sir_program])\n",
    "    plt.scatter(x, y, label=sir_program)\n",
    "    plt.xlabel('Costs')\n",
    "    plt.ylabel('Faults')\n",
    "    plt.legend()"
   ]
  },
  {
   "cell_type": "code",
   "execution_count": 25,
   "id": "d7464b8b",
   "metadata": {},
   "outputs": [
    {
     "name": "stdout",
     "output_type": "stream",
     "text": [
      "PLOT JUST FOR: flex\n"
     ]
    },
    {
     "data": {
      "image/png": "[encoded data removed]",
      "text/plain": [
       "<Figure size 640x480 with 1 Axes>"
      ]
     },
     "metadata": {},
     "output_type": "display_data"
    },
    {
     "name": "stdout",
     "output_type": "stream",
     "text": [
      "PLOT JUST FOR: grep\n"
     ]
    },
    {
     "data": {
      "image/png": "[encoded data removed]",
      "text/plain": [
       "<Figure size 640x480 with 1 Axes>"
      ]
     },
     "metadata": {},
     "output_type": "display_data"
    },
    {
     "name": "stdout",
     "output_type": "stream",
     "text": [
      "PLOT JUST FOR: gzip\n"
     ]
    },
    {
     "data": {
      "image/png": "[encoded data removed]",
      "text/plain": [
       "<Figure size 640x480 with 1 Axes>"
      ]
     },
     "metadata": {},
     "output_type": "display_data"
    },
    {
     "name": "stdout",
     "output_type": "stream",
     "text": [
      "PLOT JUST FOR: sed\n"
     ]
    },
    {
     "data": {
      "image/png": "[encoded data removed]",
      "text/plain": [
       "<Figure size 640x480 with 1 Axes>"
      ]
     },
     "metadata": {},
     "output_type": "display_data"
    }
   ],
   "source": [
    "#draw the plot for all the solutions all together\n",
    "for sir_program in sir_programs:\n",
    "    x,y = zip(*I_CE_points[sir_program])\n",
    "    print(\"PLOT JUST FOR: \" + sir_program)\n",
    "    plt.scatter(x, y)\n",
    "    plt.xlabel('Costs')\n",
    "    plt.ylabel('Faults')\n",
    "    plt.show()"
   ]
  },
  {
   "cell_type": "code",
   "execution_count": null,
   "id": "1e3987e7",
   "metadata": {},
   "outputs": [],
   "source": []
  }
 ],
 "metadata": {
  "kernelspec": {
   "display_name": "Python 3 (ipykernel)",
   "language": "python",
   "name": "python3"
  },
  "language_info": {
   "codemirror_mode": {
    "name": "ipython",
    "version": 3
   },
   "file_extension": ".py",
   "mimetype": "text/x-python",
   "name": "python",
   "nbconvert_exporter": "python",
   "pygments_lexer": "ipython3",
   "version": "3.11.4"
  }
 },
 "nbformat": 4,
 "nbformat_minor": 5
}
