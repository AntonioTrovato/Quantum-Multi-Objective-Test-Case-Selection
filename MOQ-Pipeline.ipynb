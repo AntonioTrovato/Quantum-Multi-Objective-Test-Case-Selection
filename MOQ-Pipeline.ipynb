{
 "cells": [
  {
   "cell_type": "markdown",
   "source": [
    "# A Quantum Pipeline for the regression test case selection problem\n",
    "The aim of this project is to exploit the capabilities of quantum algoritms and quantum computer to optimize the process of test case selection for regression testing purposes."
   ],
   "metadata": {
    "collapsed": false
   },
   "id": "8df92c7f16f61fcc"
  },
  {
   "cell_type": "code",
   "execution_count": 1,
   "outputs": [],
   "source": [
    "#this cell contains all the imports needed by the pipeline"
   ],
   "metadata": {
    "collapsed": false,
    "ExecuteTime": {
     "end_time": "2023-09-26T10:19:39.227363900Z",
     "start_time": "2023-09-26T10:19:39.177570Z"
    }
   },
   "id": "26cfee6323f1164"
  },
  {
   "cell_type": "markdown",
   "source": [
    "## The pipeline dataset\n",
    "The dataset to be used contains important information about 11 programs chose from the open-source SIR. "
   ],
   "metadata": {
    "collapsed": false
   },
   "id": "f36c35765771b1a0"
  },
  {
   "cell_type": "code",
   "execution_count": null,
   "outputs": [],
   "source": [],
   "metadata": {
    "collapsed": false
   },
   "id": "4ad8b693ac894c8c"
  }
 ],
 "metadata": {
  "kernelspec": {
   "display_name": "Python 3",
   "language": "python",
   "name": "python3"
  },
  "language_info": {
   "codemirror_mode": {
    "name": "ipython",
    "version": 2
   },
   "file_extension": ".py",
   "mimetype": "text/x-python",
   "name": "python",
   "nbconvert_exporter": "python",
   "pygments_lexer": "ipython2",
   "version": "2.7.6"
  }
 },
 "nbformat": 4,
 "nbformat_minor": 5
}
