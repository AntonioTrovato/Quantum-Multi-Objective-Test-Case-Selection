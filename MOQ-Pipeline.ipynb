{
 "cells": [
  {
   "cell_type": "markdown",
   "source": [
    "# Regression test case selection using quantum algorithms\n",
    "The aim of this project is to exploit the capabilities of quantum algorithms and quantum computers to optimize the process of test case selection for regression testing purposes. In particular, representing every test case as a single qubit, that could be in a superposition of both the states 0 and 1 (meaning respectively \"not selected\" and \"selected\"), quantum algorithms are able to evaluate the sub-sets of the original test suite that, preserving the coverage level of the original test suite, optimize the better the cost consumption and fault-revealing properties. "
   ],
   "metadata": {
    "collapsed": false
   },
   "id": "8df92c7f16f61fcc"
  },
  {
   "cell_type": "code",
   "execution_count": 44,
   "outputs": [],
   "source": [
    "#this cell contains all the imports needed by the pipeline\n",
    "import pandas as pd\n",
    "from IPython.display import display\n",
    "import json"
   ],
   "metadata": {
    "collapsed": false,
    "ExecuteTime": {
     "end_time": "2023-10-09T10:18:35.171959Z",
     "start_time": "2023-10-09T10:18:35.165453400Z"
    }
   },
   "id": "26cfee6323f1164"
  },
  {
   "cell_type": "code",
   "execution_count": 42,
   "outputs": [],
   "source": [
    "#this cell contains all variable definitions that will be useful throughout the entire project\n",
    "sir_programs=[\"flex\",\"grep\",\"gzip\",\"sed\"]\n",
    "sir_programs_tests_number={\"flex\":567,\"grep\":809,\"gzip\":214,\"sed\":360}"
   ],
   "metadata": {
    "collapsed": false,
    "ExecuteTime": {
     "end_time": "2023-10-09T10:18:26.584270300Z",
     "start_time": "2023-10-09T10:18:26.574916200Z"
    }
   },
   "id": "7c35ee998a723ebe"
  },
  {
   "cell_type": "markdown",
   "source": [
    "## The pipeline dataset\n",
    "To experiment the performance of the proposed solution by this work and to compare its results to those of state-of-the-art solutions, 4 public programs have been downloaded from the SIR website. SIR is a repository of software-related artifacts meant to support rigorous controlled experimentation with program analysis and software testing techniques, and education in controlled experimentation. \n",
    "\n",
    "### Chosen SIR Programs\n",
    "The programs that will be used for experimentation have all been written in C and are:\n",
    "- flex (a program that generates a lexical analysis program, based on regular expressions and C statement contained in one or more input files);\n",
    "- grep (a useful program to search form matching patterns in a file);\n",
    "- gzip (a program that substitute a file, generally text files or web pages, with their compressed version)\n",
    "- sed (a powerful program for stream text editing).\n",
    "\n",
    "### Needed information\n",
    "The information needed by the quantum algorithm to work on every one of the 4 programs are:\n",
    "- a fault matrix: it indicates whether a precise test case already found, during previous execution, a bug in the source code or not;\n",
    "- execution cost: it indicates the summation of the execution costs of all the test cases of the suite;\n",
    "- statement coverage: it indicates statement coverage information for every test case. \n",
    "\n",
    "All this information have been gathered through previous experimentation on the four programs mentioned above and written in files organized in the SIR_Programs folder. So, the first goal of the project will be gathering data from these files for computational purposes."
   ],
   "metadata": {
    "collapsed": false
   },
   "id": "f36c35765771b1a0"
  },
  {
   "cell_type": "code",
   "execution_count": 37,
   "outputs": [],
   "source": [
    "#let's make a function to read the fault matrices\n",
    "#IMPORTANT: all the fault-matrix files must be renamed as \"fault-matrix\".txt and must be written using the same standard used by the files of this project\n",
    "def get_fault_matrix(program_name:str):\n",
    "    #open the fault-matrix file of the desired SIR program\n",
    "    program_file = open(\"SIR_Programs/\"+program_name+\"/fault-matrix.txt\")\n",
    "    lines = program_file.readlines()\n",
    "    \n",
    "    #the length of each line = number of version used for historical info\n",
    "    versions = len(lines[0])-1\n",
    "    \n",
    "    faults_dictionary = {}\n",
    "    [faults_dictionary.setdefault(\"v\"+str(version+1),[]) for version in range(versions)]\n",
    "    \n",
    "    #make the dictionary like this: dict={'v0,:[0,1,0],'v2':[0,0,1],...} where keys\n",
    "    #are the columns and indicates the versions, values are boolean and\n",
    "    #ROWS ARE TEST CASES\n",
    "    for line in lines:\n",
    "        for version in range(versions):\n",
    "            faults_dictionary['v'+str(version+1)].append(line[version])\n",
    "            \n",
    "    #now let's make the pandas dataframe\n",
    "    faults_matrix = pd.DataFrame(data = faults_dictionary)\n",
    "    print(program_name.capitalize()+\" fault matrix.\\nRows are the test cases, columns are the versions.\")\n",
    "    display(faults_matrix)\n",
    "    \n",
    "    program_file.close()\n",
    "    \n",
    "    return faults_matrix"
   ],
   "metadata": {
    "collapsed": false,
    "ExecuteTime": {
     "end_time": "2023-10-09T10:07:45.964746700Z",
     "start_time": "2023-10-09T10:07:45.960552500Z"
    }
   },
   "id": "4ad8b693ac894c8c"
  },
  {
   "cell_type": "code",
   "execution_count": 46,
   "outputs": [],
   "source": [
    "#the next function is able to research into the json coverage information file of each test case\n",
    "#of each sir program to gather information about the single test cases costs and coverage\n",
    "def cost_and_coverage_information_gathering(program_name:str):\n",
    "    test_suite_execution_cost = 0\n",
    "    executed_lines_test_by_test = dict()\n",
    "    \n",
    "    for test_case in range(sir_programs_tests_number[program_name]):\n",
    "        #to open the correct file, we must remember that the folders and the json files are\n",
    "        #numbered from 1 and not from 0\n",
    "        test_case_json = open(\"SIR_Programs/\"+program_name+\"/json_\"+program_name+\"/t\"+str(test_case+1)+\"/\"+program_name+str(test_case+1)+\".gcov.json\")\n",
    "        \n",
    "        #read the JSON object as a dictionary\n",
    "        json_data = json.load(test_case_json)\n",
    "        \n",
    "        #for programs tested above more than one file, the initial row of a file will start from\n",
    "        #the final row of the preceding file\n",
    "        i = 0\n",
    "        \n",
    "        for file in json_data[\"files\"]:\n",
    "            line_count_start = i+1\n",
    "            for line in file[\"lines\"]:\n",
    "                i+=1\n",
    "                #if a line is executed, we want to remember FOR THAT LINE which are the tests\n",
    "                #that executed it, and we want to increment the execution cost\n",
    "                if line[\"unexecuted_block\"] == \"false\":\n",
    "                    #the test suite exec cost = sum of the exec freq. of each executed basic block\n",
    "                    #by each test case\n",
    "                    test_suite_execution_cost += line[\"count\"]\n",
    "                    \n",
    "                    if line[\"line_number\"] not in executed_lines_test_by_test:\n",
    "                        executed_lines_test_by_test[line_count_start + line[\"line_number\"]] = [test_case]\n",
    "                    else:\n",
    "                        executed_lines_test_by_test[line_count_start + line[\"line_number\"]].append(test_case)\n",
    "        \n",
    "        test_case_json.close()\n",
    "                        \n",
    "    return test_suite_execution_cost, executed_lines_test_by_test\n",
    "                    "
   ],
   "metadata": {
    "collapsed": false,
    "ExecuteTime": {
     "end_time": "2023-10-09T10:59:42.572329700Z",
     "start_time": "2023-10-09T10:59:42.545816100Z"
    }
   },
   "id": "a2c2a3b4b0b07580"
  },
  {
   "cell_type": "code",
   "execution_count": null,
   "outputs": [],
   "source": [
    "#we can now gain all the historical information about past fault detection \n",
    "faults_matrices = []\n",
    "for sir_program in sir_programs:\n",
    "    faults_matrices.append(get_fault_matrix(sir_program))\n",
    "\n",
    "#faults_matrices will contain all the matrices we will need\n",
    "print(faults_matrices)"
   ],
   "metadata": {
    "collapsed": false
   },
   "id": "4a07ab07f350b491"
  },
  {
   "cell_type": "code",
   "execution_count": 48,
   "outputs": [
    {
     "ename": "TypeError",
     "evalue": "'set' object does not support item assignment",
     "output_type": "error",
     "traceback": [
      "\u001B[1;31m---------------------------------------------------------------------------\u001B[0m",
      "\u001B[1;31mTypeError\u001B[0m                                 Traceback (most recent call last)",
      "Cell \u001B[1;32mIn[48], line 7\u001B[0m\n\u001B[0;32m      5\u001B[0m \u001B[38;5;28;01mfor\u001B[39;00m sir_program \u001B[38;5;129;01min\u001B[39;00m sir_programs:\n\u001B[0;32m      6\u001B[0m     costs_and_coverage \u001B[38;5;241m=\u001B[39m cost_and_coverage_information_gathering(sir_program)\n\u001B[1;32m----> 7\u001B[0m     costs[sir_program] \u001B[38;5;241m=\u001B[39m costs_and_coverage[\u001B[38;5;241m0\u001B[39m]\n\u001B[0;32m      8\u001B[0m     coverage[sir_program] \u001B[38;5;241m=\u001B[39m costs_and_coverage[\u001B[38;5;241m1\u001B[39m]\n\u001B[0;32m     10\u001B[0m \u001B[38;5;28mprint\u001B[39m(costs)\n",
      "\u001B[1;31mTypeError\u001B[0m: 'set' object does not support item assignment"
     ]
    }
   ],
   "source": [
    "#we can now gain costs and coverage information\n",
    "costs = {\"flex\":null,\"grep\":null,\"gzip\":null,\"sed\":null}\n",
    "coverage = {\"flex\":null,\"grep\":null,\"gzip\":null,\"sed\":null}\n",
    "\n",
    "for sir_program in sir_programs:\n",
    "    costs_and_coverage = cost_and_coverage_information_gathering(sir_program)\n",
    "    costs[sir_program] = costs_and_coverage[0]\n",
    "    coverage[sir_program] = costs_and_coverage[1]\n",
    "\n",
    "print(costs)\n",
    "print(coverage)"
   ],
   "metadata": {
    "collapsed": false,
    "ExecuteTime": {
     "end_time": "2023-10-09T11:07:58.635581100Z",
     "start_time": "2023-10-09T11:06:38.067987700Z"
    }
   },
   "id": "70035b3df21f1327"
  },
  {
   "cell_type": "code",
   "execution_count": null,
   "outputs": [],
   "source": [],
   "metadata": {
    "collapsed": false
   },
   "id": "7b8899b54a2fc887"
  }
 ],
 "metadata": {
  "kernelspec": {
   "display_name": "Python 3",
   "language": "python",
   "name": "python3"
  },
  "language_info": {
   "codemirror_mode": {
    "name": "ipython",
    "version": 2
   },
   "file_extension": ".py",
   "mimetype": "text/x-python",
   "name": "python",
   "nbconvert_exporter": "python",
   "pygments_lexer": "ipython2",
   "version": "2.7.6"
  }
 },
 "nbformat": 4,
 "nbformat_minor": 5
}
